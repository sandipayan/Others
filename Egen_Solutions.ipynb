{
 "cells": [
  {
   "cell_type": "markdown",
   "metadata": {},
   "source": [
    "##  Solution for Egen questions"
   ]
  },
  {
   "cell_type": "markdown",
   "metadata": {},
   "source": [
    "###  * Use case #2"
   ]
  },
  {
   "cell_type": "markdown",
   "metadata": {},
   "source": [
    "* Import necessary libraries"
   ]
  },
  {
   "cell_type": "code",
   "execution_count": 1,
   "metadata": {
    "collapsed": false
   },
   "outputs": [],
   "source": [
    "import pandas as pd\n",
    "import csv\n",
    "import warnings\n",
    "from collections import Counter \n",
    "warnings.filterwarnings(\"ignore\")"
   ]
  },
  {
   "cell_type": "code",
   "execution_count": 2,
   "metadata": {
    "collapsed": false
   },
   "outputs": [],
   "source": [
    "val_ds=pd.read_csv(\"/Users/sandipayannandi/Downloads/egen/Validation_DataSet.csv\")"
   ]
  },
  {
   "cell_type": "code",
   "execution_count": 3,
   "metadata": {
    "collapsed": false
   },
   "outputs": [
    {
     "data": {
      "text/html": [
       "<div>\n",
       "<table border=\"1\" class=\"dataframe\">\n",
       "  <thead>\n",
       "    <tr style=\"text-align: right;\">\n",
       "      <th></th>\n",
       "      <th>CONTROL</th>\n",
       "      <th>AGE1</th>\n",
       "      <th>METRO3</th>\n",
       "      <th>REGION</th>\n",
       "      <th>LMED</th>\n",
       "      <th>FMR</th>\n",
       "      <th>L30</th>\n",
       "      <th>L50</th>\n",
       "      <th>L80</th>\n",
       "      <th>IPOV</th>\n",
       "      <th>...</th>\n",
       "      <th>FMTINCRELFMRCAT</th>\n",
       "      <th>FMTCOST06RELAMICAT</th>\n",
       "      <th>FMTCOST08RELAMICAT</th>\n",
       "      <th>FMTCOST12RELAMICAT</th>\n",
       "      <th>FMTCOSTMEDRELAMICAT</th>\n",
       "      <th>FMTINCRELAMICAT</th>\n",
       "      <th>FMTASSISTED</th>\n",
       "      <th>FMTBURDEN</th>\n",
       "      <th>FMTREGION</th>\n",
       "      <th>FMTSTATUS</th>\n",
       "    </tr>\n",
       "  </thead>\n",
       "  <tbody>\n",
       "    <tr>\n",
       "      <th>1</th>\n",
       "      <td>100006110249'</td>\n",
       "      <td>50</td>\n",
       "      <td>'5'</td>\n",
       "      <td>'3'</td>\n",
       "      <td>55846</td>\n",
       "      <td>1100</td>\n",
       "      <td>17165</td>\n",
       "      <td>28604</td>\n",
       "      <td>45744</td>\n",
       "      <td>24218</td>\n",
       "      <td>...</td>\n",
       "      <td>'3 GT FMR'</td>\n",
       "      <td>'4 60 - 80% AMI'</td>\n",
       "      <td>'4 60 - 80% AMI'</td>\n",
       "      <td>'6 100 - 120% AMI'</td>\n",
       "      <td>'4 60 - 80% AMI'</td>\n",
       "      <td>'7 120% AMI +'</td>\n",
       "      <td>'.'</td>\n",
       "      <td>'1 Less than 30%'</td>\n",
       "      <td>'-5'</td>\n",
       "      <td>'-5'</td>\n",
       "    </tr>\n",
       "    <tr>\n",
       "      <th>2</th>\n",
       "      <td>'100006370140'</td>\n",
       "      <td>53</td>\n",
       "      <td>'5'</td>\n",
       "      <td>'3'</td>\n",
       "      <td>55846</td>\n",
       "      <td>1100</td>\n",
       "      <td>13750</td>\n",
       "      <td>22897</td>\n",
       "      <td>36614</td>\n",
       "      <td>15470</td>\n",
       "      <td>...</td>\n",
       "      <td>'2 50.1 - 100% FMR'</td>\n",
       "      <td>'4 60 - 80% AMI'</td>\n",
       "      <td>'5 80 - 100% AMI'</td>\n",
       "      <td>'6 100 - 120% AMI'</td>\n",
       "      <td>'4 60 - 80% AMI'</td>\n",
       "      <td>'4 60 - 80% AMI'</td>\n",
       "      <td>'.'</td>\n",
       "      <td>'3 50% or More'</td>\n",
       "      <td>'-5'</td>\n",
       "      <td>'-5'</td>\n",
       "    </tr>\n",
       "    <tr>\n",
       "      <th>3</th>\n",
       "      <td>'100006520140'</td>\n",
       "      <td>67</td>\n",
       "      <td>'5'</td>\n",
       "      <td>'3'</td>\n",
       "      <td>55846</td>\n",
       "      <td>949</td>\n",
       "      <td>13750</td>\n",
       "      <td>22897</td>\n",
       "      <td>36614</td>\n",
       "      <td>13964</td>\n",
       "      <td>...</td>\n",
       "      <td>'2 50.1 - 100% FMR'</td>\n",
       "      <td>'6 100 - 120% AMI'</td>\n",
       "      <td>'7 120% AMI +'</td>\n",
       "      <td>'7 120% AMI +'</td>\n",
       "      <td>'5 80 - 100% AMI'</td>\n",
       "      <td>'4 60 - 80% AMI'</td>\n",
       "      <td>'.'</td>\n",
       "      <td>'1 Less than 30%'</td>\n",
       "      <td>'-5'</td>\n",
       "      <td>'-5'</td>\n",
       "    </tr>\n",
       "    <tr>\n",
       "      <th>4</th>\n",
       "      <td>'100007130148'</td>\n",
       "      <td>26</td>\n",
       "      <td>'1'</td>\n",
       "      <td>'3'</td>\n",
       "      <td>60991</td>\n",
       "      <td>737</td>\n",
       "      <td>14801</td>\n",
       "      <td>24628</td>\n",
       "      <td>39421</td>\n",
       "      <td>15492</td>\n",
       "      <td>...</td>\n",
       "      <td>'3 GT FMR'</td>\n",
       "      <td>'3 50 - 60% AMI'</td>\n",
       "      <td>'3 50 - 60% AMI'</td>\n",
       "      <td>'3 50 - 60% AMI'</td>\n",
       "      <td>'3 50 - 60% AMI'</td>\n",
       "      <td>'7 120% AMI +'</td>\n",
       "      <td>'0 Not Assisted'</td>\n",
       "      <td>'1 Less than 30%'</td>\n",
       "      <td>'-5'</td>\n",
       "      <td>'-5'</td>\n",
       "    </tr>\n",
       "    <tr>\n",
       "      <th>5</th>\n",
       "      <td>'100007390148'</td>\n",
       "      <td>56</td>\n",
       "      <td>'2'</td>\n",
       "      <td>'3'</td>\n",
       "      <td>62066</td>\n",
       "      <td>657</td>\n",
       "      <td>13170</td>\n",
       "      <td>21924</td>\n",
       "      <td>35073</td>\n",
       "      <td>12005</td>\n",
       "      <td>...</td>\n",
       "      <td>'2 50.1 - 100% FMR'</td>\n",
       "      <td>'3 50 - 60% AMI'</td>\n",
       "      <td>'3 50 - 60% AMI'</td>\n",
       "      <td>'3 50 - 60% AMI'</td>\n",
       "      <td>'3 50 - 60% AMI'</td>\n",
       "      <td>'2 30 - 50% AMI'</td>\n",
       "      <td>'1 Assisted'</td>\n",
       "      <td>'3 50% or More'</td>\n",
       "      <td>'-5'</td>\n",
       "      <td>'-5'</td>\n",
       "    </tr>\n",
       "    <tr>\n",
       "      <th>6</th>\n",
       "      <td>'100007540148'</td>\n",
       "      <td>50</td>\n",
       "      <td>'1'</td>\n",
       "      <td>'3'</td>\n",
       "      <td>60991</td>\n",
       "      <td>988</td>\n",
       "      <td>16646</td>\n",
       "      <td>27713</td>\n",
       "      <td>44340</td>\n",
       "      <td>18050</td>\n",
       "      <td>...</td>\n",
       "      <td>'3 GT FMR'</td>\n",
       "      <td>'7 120% AMI +'</td>\n",
       "      <td>'7 120% AMI +'</td>\n",
       "      <td>'7 120% AMI +'</td>\n",
       "      <td>'6 100 - 120% AMI'</td>\n",
       "      <td>'7 120% AMI +'</td>\n",
       "      <td>'.'</td>\n",
       "      <td>'1 Less than 30%'</td>\n",
       "      <td>'-5'</td>\n",
       "      <td>'-5'</td>\n",
       "    </tr>\n",
       "    <tr>\n",
       "      <th>7</th>\n",
       "      <td>'100008700141'</td>\n",
       "      <td>26</td>\n",
       "      <td>'4'</td>\n",
       "      <td>'4'</td>\n",
       "      <td>52322</td>\n",
       "      <td>773</td>\n",
       "      <td>13489</td>\n",
       "      <td>22471</td>\n",
       "      <td>35929</td>\n",
       "      <td>15992</td>\n",
       "      <td>...</td>\n",
       "      <td>'3 GT FMR'</td>\n",
       "      <td>'4 60 - 80% AMI'</td>\n",
       "      <td>'4 60 - 80% AMI'</td>\n",
       "      <td>'4 60 - 80% AMI'</td>\n",
       "      <td>'4 60 - 80% AMI'</td>\n",
       "      <td>'4 60 - 80% AMI'</td>\n",
       "      <td>'0 Not Assisted'</td>\n",
       "      <td>'2 30% to 50%'</td>\n",
       "      <td>'West'</td>\n",
       "      <td>'-5'</td>\n",
       "    </tr>\n",
       "    <tr>\n",
       "      <th>8</th>\n",
       "      <td>'100008960141'</td>\n",
       "      <td>60</td>\n",
       "      <td>'5'</td>\n",
       "      <td>'4'</td>\n",
       "      <td>50296</td>\n",
       "      <td>1125</td>\n",
       "      <td>13115</td>\n",
       "      <td>21859</td>\n",
       "      <td>34939</td>\n",
       "      <td>15452</td>\n",
       "      <td>...</td>\n",
       "      <td>'3 GT FMR'</td>\n",
       "      <td>'6 100 - 120% AMI'</td>\n",
       "      <td>'6 100 - 120% AMI'</td>\n",
       "      <td>'7 120% AMI +'</td>\n",
       "      <td>'5 80 - 100% AMI'</td>\n",
       "      <td>'7 120% AMI +'</td>\n",
       "      <td>'.'</td>\n",
       "      <td>'1 Less than 30%'</td>\n",
       "      <td>'West'</td>\n",
       "      <td>'-5'</td>\n",
       "    </tr>\n",
       "    <tr>\n",
       "      <th>9</th>\n",
       "      <td>'100009170148'</td>\n",
       "      <td>26</td>\n",
       "      <td>'4'</td>\n",
       "      <td>'2'</td>\n",
       "      <td>63221</td>\n",
       "      <td>552</td>\n",
       "      <td>13338</td>\n",
       "      <td>22199</td>\n",
       "      <td>35501</td>\n",
       "      <td>12005</td>\n",
       "      <td>...</td>\n",
       "      <td>'3 GT FMR'</td>\n",
       "      <td>'5 80 - 100% AMI'</td>\n",
       "      <td>'5 80 - 100% AMI'</td>\n",
       "      <td>'5 80 - 100% AMI'</td>\n",
       "      <td>'5 80 - 100% AMI'</td>\n",
       "      <td>'6 100 - 120% AMI'</td>\n",
       "      <td>'0 Not Assisted'</td>\n",
       "      <td>'1 Less than 30%'</td>\n",
       "      <td>'-5'</td>\n",
       "      <td>'-5'</td>\n",
       "    </tr>\n",
       "  </tbody>\n",
       "</table>\n",
       "<p>9 rows × 99 columns</p>\n",
       "</div>"
      ],
      "text/plain": [
       "          CONTROL  AGE1 METRO3 REGION   LMED   FMR    L30    L50    L80  \\\n",
       "1   100006110249'    50    '5'    '3'  55846  1100  17165  28604  45744   \n",
       "2  '100006370140'    53    '5'    '3'  55846  1100  13750  22897  36614   \n",
       "3  '100006520140'    67    '5'    '3'  55846   949  13750  22897  36614   \n",
       "4  '100007130148'    26    '1'    '3'  60991   737  14801  24628  39421   \n",
       "5  '100007390148'    56    '2'    '3'  62066   657  13170  21924  35073   \n",
       "6  '100007540148'    50    '1'    '3'  60991   988  16646  27713  44340   \n",
       "7  '100008700141'    26    '4'    '4'  52322   773  13489  22471  35929   \n",
       "8  '100008960141'    60    '5'    '4'  50296  1125  13115  21859  34939   \n",
       "9  '100009170148'    26    '4'    '2'  63221   552  13338  22199  35501   \n",
       "\n",
       "    IPOV    ...          FMTINCRELFMRCAT  FMTCOST06RELAMICAT  \\\n",
       "1  24218    ...               '3 GT FMR'    '4 60 - 80% AMI'   \n",
       "2  15470    ...      '2 50.1 - 100% FMR'    '4 60 - 80% AMI'   \n",
       "3  13964    ...      '2 50.1 - 100% FMR'  '6 100 - 120% AMI'   \n",
       "4  15492    ...               '3 GT FMR'    '3 50 - 60% AMI'   \n",
       "5  12005    ...      '2 50.1 - 100% FMR'    '3 50 - 60% AMI'   \n",
       "6  18050    ...               '3 GT FMR'      '7 120% AMI +'   \n",
       "7  15992    ...               '3 GT FMR'    '4 60 - 80% AMI'   \n",
       "8  15452    ...               '3 GT FMR'  '6 100 - 120% AMI'   \n",
       "9  12005    ...               '3 GT FMR'   '5 80 - 100% AMI'   \n",
       "\n",
       "   FMTCOST08RELAMICAT  FMTCOST12RELAMICAT  FMTCOSTMEDRELAMICAT  \\\n",
       "1    '4 60 - 80% AMI'  '6 100 - 120% AMI'     '4 60 - 80% AMI'   \n",
       "2   '5 80 - 100% AMI'  '6 100 - 120% AMI'     '4 60 - 80% AMI'   \n",
       "3      '7 120% AMI +'      '7 120% AMI +'    '5 80 - 100% AMI'   \n",
       "4    '3 50 - 60% AMI'    '3 50 - 60% AMI'     '3 50 - 60% AMI'   \n",
       "5    '3 50 - 60% AMI'    '3 50 - 60% AMI'     '3 50 - 60% AMI'   \n",
       "6      '7 120% AMI +'      '7 120% AMI +'   '6 100 - 120% AMI'   \n",
       "7    '4 60 - 80% AMI'    '4 60 - 80% AMI'     '4 60 - 80% AMI'   \n",
       "8  '6 100 - 120% AMI'      '7 120% AMI +'    '5 80 - 100% AMI'   \n",
       "9   '5 80 - 100% AMI'   '5 80 - 100% AMI'    '5 80 - 100% AMI'   \n",
       "\n",
       "      FMTINCRELAMICAT       FMTASSISTED          FMTBURDEN  FMTREGION  \\\n",
       "1      '7 120% AMI +'               '.'  '1 Less than 30%'       '-5'   \n",
       "2    '4 60 - 80% AMI'               '.'    '3 50% or More'       '-5'   \n",
       "3    '4 60 - 80% AMI'               '.'  '1 Less than 30%'       '-5'   \n",
       "4      '7 120% AMI +'  '0 Not Assisted'  '1 Less than 30%'       '-5'   \n",
       "5    '2 30 - 50% AMI'      '1 Assisted'    '3 50% or More'       '-5'   \n",
       "6      '7 120% AMI +'               '.'  '1 Less than 30%'       '-5'   \n",
       "7    '4 60 - 80% AMI'  '0 Not Assisted'     '2 30% to 50%'     'West'   \n",
       "8      '7 120% AMI +'               '.'  '1 Less than 30%'     'West'   \n",
       "9  '6 100 - 120% AMI'  '0 Not Assisted'  '1 Less than 30%'       '-5'   \n",
       "\n",
       "   FMTSTATUS  \n",
       "1       '-5'  \n",
       "2       '-5'  \n",
       "3       '-5'  \n",
       "4       '-5'  \n",
       "5       '-5'  \n",
       "6       '-5'  \n",
       "7       '-5'  \n",
       "8       '-5'  \n",
       "9       '-5'  \n",
       "\n",
       "[9 rows x 99 columns]"
      ]
     },
     "execution_count": 3,
     "metadata": {},
     "output_type": "execute_result"
    }
   ],
   "source": [
    "val_ds[1:10]"
   ]
  },
  {
   "cell_type": "markdown",
   "metadata": {},
   "source": [
    "* Filter records based on below criteria and send filtered records to a file"
   ]
  },
  {
   "cell_type": "markdown",
   "metadata": {},
   "source": [
    "Create a function which will check for the below logics and if there is a violation then the same records will be moved to the failed_records.csv file.\n",
    "\n",
    "1.\tSTRUCTURETYPE should be Positive and Numeric \n",
    "2.\tCONTROL should Unique   (* Move all duplicates to the failed_records)\n",
    "3.\tAGE should be positive.\n",
    "4.\tIf a record contains ‘BR’ in FMTBEDRMS column then It should be either 1,2,3 or 4.\n",
    "5.\tFMTSTATUS should be same for all records.\n"
   ]
  },
  {
   "cell_type": "code",
   "execution_count": 4,
   "metadata": {
    "collapsed": true
   },
   "outputs": [],
   "source": [
    "# Define a function where error will be caught and code will not fail\n",
    "\n",
    "def posnum(s):\n",
    "    try:\n",
    "        return int(s)\n",
    "    except ValueError:\n",
    "        return(-1)"
   ]
  },
  {
   "cell_type": "code",
   "execution_count": 5,
   "metadata": {
    "collapsed": false
   },
   "outputs": [],
   "source": [
    "# check bedroom critria\n",
    "\n",
    "def bdrm(s):\n",
    "    valid_list=['1','2','3','4']\n",
    "    if s.find(\"BR\") > 0 and s[s.find(\"BR\")-1] not in  valid_list:\n",
    "        return(-1)"
   ]
  },
  {
   "cell_type": "code",
   "execution_count": 6,
   "metadata": {
    "collapsed": false
   },
   "outputs": [],
   "source": [
    "# Check which CONTROL values are duplicates (more than 1)\n",
    "dups=[ (k,v) for (k,v) in Counter(val_ds['CONTROL']).items() if v > 1  ]"
   ]
  },
  {
   "cell_type": "code",
   "execution_count": 7,
   "metadata": {
    "collapsed": false
   },
   "outputs": [
    {
     "data": {
      "text/plain": [
       "[(\"'100013330103'\", 10)]"
      ]
     },
     "execution_count": 7,
     "metadata": {},
     "output_type": "execute_result"
    }
   ],
   "source": [
    "# We have only one with 10 occurances\n",
    "dups"
   ]
  },
  {
   "cell_type": "code",
   "execution_count": 8,
   "metadata": {
    "collapsed": false
   },
   "outputs": [],
   "source": [
    "dups_val =[ k for (k,v) in Counter(val_ds['CONTROL']).items() if v > 1  ]"
   ]
  },
  {
   "cell_type": "code",
   "execution_count": 9,
   "metadata": {
    "collapsed": false
   },
   "outputs": [
    {
     "data": {
      "text/plain": [
       "[\"'100013330103'\"]"
      ]
     },
     "execution_count": 9,
     "metadata": {},
     "output_type": "execute_result"
    }
   ],
   "source": [
    "dups_val"
   ]
  },
  {
   "cell_type": "code",
   "execution_count": 10,
   "metadata": {
    "collapsed": false
   },
   "outputs": [],
   "source": [
    "# Define the validation function\n",
    "\n",
    "def validation():\n",
    "    with open ('/Users/sandipayannandi/Downloads/egen/failed_records.csv', 'w',newline='') as f:\n",
    "        writer=csv.writer(f)\n",
    "        writer.writerow(list(val_ds.dtypes.index))\n",
    "        for i in range(len(val_ds)):\n",
    "            if ( posnum(val_ds['STRUCTURETYPE'][i]) <= 0 or val_ds['CONTROL'][i] in dups_val or val_ds['AGE1'][i] <=0 or bdrm(val_ds['FMTBEDRMS'][i])==-1  or  val_ds['FMTSTATUS'][i] !=\"'-5'\"  )  :\n",
    "                writer.writerow(list(val_ds.iloc[i]))\n",
    "    "
   ]
  },
  {
   "cell_type": "markdown",
   "metadata": {},
   "source": [
    "* Calling the validation() function will create the failed_records.csv csv file "
   ]
  },
  {
   "cell_type": "code",
   "execution_count": 11,
   "metadata": {
    "collapsed": false
   },
   "outputs": [],
   "source": [
    "validation()"
   ]
  },
  {
   "cell_type": "code",
   "execution_count": 14,
   "metadata": {
    "collapsed": false
   },
   "outputs": [],
   "source": [
    "failed_records=pd.read_csv(\"/Users/sandipayannandi/Downloads/egen/failed_records.csv\")"
   ]
  },
  {
   "cell_type": "code",
   "execution_count": 15,
   "metadata": {
    "collapsed": false
   },
   "outputs": [
    {
     "data": {
      "text/plain": [
       "4455"
      ]
     },
     "execution_count": 15,
     "metadata": {},
     "output_type": "execute_result"
    }
   ],
   "source": [
    "len(failed_records)"
   ]
  },
  {
   "cell_type": "markdown",
   "metadata": {},
   "source": [
    "* Glimpse of the failed records, for all records check the csv file generated above"
   ]
  },
  {
   "cell_type": "code",
   "execution_count": 16,
   "metadata": {
    "collapsed": false
   },
   "outputs": [
    {
     "data": {
      "text/html": [
       "<div>\n",
       "<table border=\"1\" class=\"dataframe\">\n",
       "  <thead>\n",
       "    <tr style=\"text-align: right;\">\n",
       "      <th></th>\n",
       "      <th>CONTROL</th>\n",
       "      <th>AGE1</th>\n",
       "      <th>METRO3</th>\n",
       "      <th>REGION</th>\n",
       "      <th>LMED</th>\n",
       "      <th>FMR</th>\n",
       "      <th>L30</th>\n",
       "      <th>L50</th>\n",
       "      <th>L80</th>\n",
       "      <th>IPOV</th>\n",
       "      <th>...</th>\n",
       "      <th>FMTINCRELFMRCAT</th>\n",
       "      <th>FMTCOST06RELAMICAT</th>\n",
       "      <th>FMTCOST08RELAMICAT</th>\n",
       "      <th>FMTCOST12RELAMICAT</th>\n",
       "      <th>FMTCOSTMEDRELAMICAT</th>\n",
       "      <th>FMTINCRELAMICAT</th>\n",
       "      <th>FMTASSISTED</th>\n",
       "      <th>FMTBURDEN</th>\n",
       "      <th>FMTREGION</th>\n",
       "      <th>FMTSTATUS</th>\n",
       "    </tr>\n",
       "  </thead>\n",
       "  <tbody>\n",
       "    <tr>\n",
       "      <th>1</th>\n",
       "      <td>'100013330103'</td>\n",
       "      <td>25</td>\n",
       "      <td>'1'</td>\n",
       "      <td>'2'</td>\n",
       "      <td>64362</td>\n",
       "      <td>751</td>\n",
       "      <td>15429</td>\n",
       "      <td>25701</td>\n",
       "      <td>41108</td>\n",
       "      <td>15492</td>\n",
       "      <td>...</td>\n",
       "      <td>'3 GT FMR'</td>\n",
       "      <td>'4 60 - 80% AMI'</td>\n",
       "      <td>'4 60 - 80% AMI'</td>\n",
       "      <td>'4 60 - 80% AMI'</td>\n",
       "      <td>'4 60 - 80% AMI'</td>\n",
       "      <td>'6 100 - 120% AMI'</td>\n",
       "      <td>'0 Not Assisted'</td>\n",
       "      <td>'1 Less than 30%'</td>\n",
       "      <td>'-5'</td>\n",
       "      <td>'-5'</td>\n",
       "    </tr>\n",
       "    <tr>\n",
       "      <th>2</th>\n",
       "      <td>'100013330103'</td>\n",
       "      <td>53</td>\n",
       "      <td>'3'</td>\n",
       "      <td>'2'</td>\n",
       "      <td>64182</td>\n",
       "      <td>1002</td>\n",
       "      <td>17221</td>\n",
       "      <td>28686</td>\n",
       "      <td>45888</td>\n",
       "      <td>18126</td>\n",
       "      <td>...</td>\n",
       "      <td>'3 GT FMR'</td>\n",
       "      <td>'7 120% AMI +'</td>\n",
       "      <td>'7 120% AMI +'</td>\n",
       "      <td>'7 120% AMI +'</td>\n",
       "      <td>'6 100 - 120% AMI'</td>\n",
       "      <td>'7 120% AMI +'</td>\n",
       "      <td>'.'</td>\n",
       "      <td>'1 Less than 30%'</td>\n",
       "      <td>'-5'</td>\n",
       "      <td>'-5'</td>\n",
       "    </tr>\n",
       "    <tr>\n",
       "      <th>3</th>\n",
       "      <td>'100013330103'</td>\n",
       "      <td>67</td>\n",
       "      <td>'1'</td>\n",
       "      <td>'2'</td>\n",
       "      <td>64362</td>\n",
       "      <td>1239</td>\n",
       "      <td>13514</td>\n",
       "      <td>22496</td>\n",
       "      <td>35977</td>\n",
       "      <td>11057</td>\n",
       "      <td>...</td>\n",
       "      <td>'3 GT FMR'</td>\n",
       "      <td>'7 120% AMI +'</td>\n",
       "      <td>'7 120% AMI +'</td>\n",
       "      <td>'7 120% AMI +'</td>\n",
       "      <td>'6 100 - 120% AMI'</td>\n",
       "      <td>'7 120% AMI +'</td>\n",
       "      <td>'.'</td>\n",
       "      <td>'2 30% to 50%'</td>\n",
       "      <td>'-5'</td>\n",
       "      <td>'-5'</td>\n",
       "    </tr>\n",
       "    <tr>\n",
       "      <th>4</th>\n",
       "      <td>'100028130103'</td>\n",
       "      <td>32</td>\n",
       "      <td>'1'</td>\n",
       "      <td>'3'</td>\n",
       "      <td>56613</td>\n",
       "      <td>1349</td>\n",
       "      <td>20190</td>\n",
       "      <td>33623</td>\n",
       "      <td>53783</td>\n",
       "      <td>30834</td>\n",
       "      <td>...</td>\n",
       "      <td>'3 GT FMR'</td>\n",
       "      <td>'4 60 - 80% AMI'</td>\n",
       "      <td>'4 60 - 80% AMI'</td>\n",
       "      <td>'5 80 - 100% AMI'</td>\n",
       "      <td>'3 50 - 60% AMI'</td>\n",
       "      <td>'6 100 - 120% AMI'</td>\n",
       "      <td>'.'</td>\n",
       "      <td>'1 Less than 30%'</td>\n",
       "      <td>'-5'</td>\n",
       "      <td>'-5'</td>\n",
       "    </tr>\n",
       "    <tr>\n",
       "      <th>5</th>\n",
       "      <td>'100028170140'</td>\n",
       "      <td>-9</td>\n",
       "      <td>'1'</td>\n",
       "      <td>'3'</td>\n",
       "      <td>56613</td>\n",
       "      <td>868</td>\n",
       "      <td>12190</td>\n",
       "      <td>20301</td>\n",
       "      <td>32462</td>\n",
       "      <td>-6</td>\n",
       "      <td>...</td>\n",
       "      <td>'.'</td>\n",
       "      <td>'3 50 - 60% AMI'</td>\n",
       "      <td>'3 50 - 60% AMI'</td>\n",
       "      <td>'3 50 - 60% AMI'</td>\n",
       "      <td>'3 50 - 60% AMI'</td>\n",
       "      <td>'.'</td>\n",
       "      <td>'.'</td>\n",
       "      <td>'.'</td>\n",
       "      <td>'-5'</td>\n",
       "      <td>'-5'</td>\n",
       "    </tr>\n",
       "    <tr>\n",
       "      <th>6</th>\n",
       "      <td>'100102770145'</td>\n",
       "      <td>-9</td>\n",
       "      <td>'2'</td>\n",
       "      <td>'3'</td>\n",
       "      <td>77954</td>\n",
       "      <td>749</td>\n",
       "      <td>16434</td>\n",
       "      <td>27384</td>\n",
       "      <td>40379</td>\n",
       "      <td>-6</td>\n",
       "      <td>...</td>\n",
       "      <td>'.'</td>\n",
       "      <td>'7 120% AMI +'</td>\n",
       "      <td>'7 120% AMI +'</td>\n",
       "      <td>'7 120% AMI +'</td>\n",
       "      <td>'7 120% AMI +'</td>\n",
       "      <td>'.'</td>\n",
       "      <td>'.'</td>\n",
       "      <td>'.'</td>\n",
       "      <td>'-5'</td>\n",
       "      <td>'-5'</td>\n",
       "    </tr>\n",
       "    <tr>\n",
       "      <th>7</th>\n",
       "      <td>'100105130103'</td>\n",
       "      <td>-9</td>\n",
       "      <td>'4'</td>\n",
       "      <td>'3'</td>\n",
       "      <td>59547</td>\n",
       "      <td>589</td>\n",
       "      <td>12837</td>\n",
       "      <td>21389</td>\n",
       "      <td>34008</td>\n",
       "      <td>-6</td>\n",
       "      <td>...</td>\n",
       "      <td>'.'</td>\n",
       "      <td>'2 30 - 50% AMI'</td>\n",
       "      <td>'2 30 - 50% AMI'</td>\n",
       "      <td>'2 30 - 50% AMI'</td>\n",
       "      <td>'2 30 - 50% AMI'</td>\n",
       "      <td>'.'</td>\n",
       "      <td>'.'</td>\n",
       "      <td>'.'</td>\n",
       "      <td>'-5'</td>\n",
       "      <td>'-5'</td>\n",
       "    </tr>\n",
       "    <tr>\n",
       "      <th>8</th>\n",
       "      <td>'100013330103'</td>\n",
       "      <td>39</td>\n",
       "      <td>'5'</td>\n",
       "      <td>'1'</td>\n",
       "      <td>61917</td>\n",
       "      <td>1056</td>\n",
       "      <td>25706</td>\n",
       "      <td>42836</td>\n",
       "      <td>68005</td>\n",
       "      <td>49283</td>\n",
       "      <td>...</td>\n",
       "      <td>'2 50.1 - 100% FMR'</td>\n",
       "      <td>'7 120% AMI +'</td>\n",
       "      <td>'7 120% AMI +'</td>\n",
       "      <td>'7 120% AMI +'</td>\n",
       "      <td>'7 120% AMI +'</td>\n",
       "      <td>'2 30 - 50% AMI'</td>\n",
       "      <td>'.'</td>\n",
       "      <td>'3 50% or More'</td>\n",
       "      <td>'-5'</td>\n",
       "      <td>'-5'</td>\n",
       "    </tr>\n",
       "    <tr>\n",
       "      <th>9</th>\n",
       "      <td>'100130310140'</td>\n",
       "      <td>-9</td>\n",
       "      <td>'2'</td>\n",
       "      <td>'3'</td>\n",
       "      <td>57700</td>\n",
       "      <td>776</td>\n",
       "      <td>12150</td>\n",
       "      <td>20200</td>\n",
       "      <td>32350</td>\n",
       "      <td>-6</td>\n",
       "      <td>...</td>\n",
       "      <td>'.'</td>\n",
       "      <td>'1 LTE 30% AMI'</td>\n",
       "      <td>'1 LTE 30% AMI'</td>\n",
       "      <td>'1 LTE 30% AMI'</td>\n",
       "      <td>'1 LTE 30% AMI'</td>\n",
       "      <td>'.'</td>\n",
       "      <td>'.'</td>\n",
       "      <td>'.'</td>\n",
       "      <td>'-5'</td>\n",
       "      <td>'-5'</td>\n",
       "    </tr>\n",
       "  </tbody>\n",
       "</table>\n",
       "<p>9 rows × 99 columns</p>\n",
       "</div>"
      ],
      "text/plain": [
       "          CONTROL  AGE1 METRO3 REGION   LMED   FMR    L30    L50    L80  \\\n",
       "1  '100013330103'    25    '1'    '2'  64362   751  15429  25701  41108   \n",
       "2  '100013330103'    53    '3'    '2'  64182  1002  17221  28686  45888   \n",
       "3  '100013330103'    67    '1'    '2'  64362  1239  13514  22496  35977   \n",
       "4  '100028130103'    32    '1'    '3'  56613  1349  20190  33623  53783   \n",
       "5  '100028170140'    -9    '1'    '3'  56613   868  12190  20301  32462   \n",
       "6  '100102770145'    -9    '2'    '3'  77954   749  16434  27384  40379   \n",
       "7  '100105130103'    -9    '4'    '3'  59547   589  12837  21389  34008   \n",
       "8  '100013330103'    39    '5'    '1'  61917  1056  25706  42836  68005   \n",
       "9  '100130310140'    -9    '2'    '3'  57700   776  12150  20200  32350   \n",
       "\n",
       "    IPOV    ...          FMTINCRELFMRCAT  FMTCOST06RELAMICAT  \\\n",
       "1  15492    ...               '3 GT FMR'    '4 60 - 80% AMI'   \n",
       "2  18126    ...               '3 GT FMR'      '7 120% AMI +'   \n",
       "3  11057    ...               '3 GT FMR'      '7 120% AMI +'   \n",
       "4  30834    ...               '3 GT FMR'    '4 60 - 80% AMI'   \n",
       "5     -6    ...                      '.'    '3 50 - 60% AMI'   \n",
       "6     -6    ...                      '.'      '7 120% AMI +'   \n",
       "7     -6    ...                      '.'    '2 30 - 50% AMI'   \n",
       "8  49283    ...      '2 50.1 - 100% FMR'      '7 120% AMI +'   \n",
       "9     -6    ...                      '.'     '1 LTE 30% AMI'   \n",
       "\n",
       "  FMTCOST08RELAMICAT  FMTCOST12RELAMICAT  FMTCOSTMEDRELAMICAT  \\\n",
       "1   '4 60 - 80% AMI'    '4 60 - 80% AMI'     '4 60 - 80% AMI'   \n",
       "2     '7 120% AMI +'      '7 120% AMI +'   '6 100 - 120% AMI'   \n",
       "3     '7 120% AMI +'      '7 120% AMI +'   '6 100 - 120% AMI'   \n",
       "4   '4 60 - 80% AMI'   '5 80 - 100% AMI'     '3 50 - 60% AMI'   \n",
       "5   '3 50 - 60% AMI'    '3 50 - 60% AMI'     '3 50 - 60% AMI'   \n",
       "6     '7 120% AMI +'      '7 120% AMI +'       '7 120% AMI +'   \n",
       "7   '2 30 - 50% AMI'    '2 30 - 50% AMI'     '2 30 - 50% AMI'   \n",
       "8     '7 120% AMI +'      '7 120% AMI +'       '7 120% AMI +'   \n",
       "9    '1 LTE 30% AMI'     '1 LTE 30% AMI'      '1 LTE 30% AMI'   \n",
       "\n",
       "      FMTINCRELAMICAT       FMTASSISTED          FMTBURDEN  FMTREGION  \\\n",
       "1  '6 100 - 120% AMI'  '0 Not Assisted'  '1 Less than 30%'       '-5'   \n",
       "2      '7 120% AMI +'               '.'  '1 Less than 30%'       '-5'   \n",
       "3      '7 120% AMI +'               '.'     '2 30% to 50%'       '-5'   \n",
       "4  '6 100 - 120% AMI'               '.'  '1 Less than 30%'       '-5'   \n",
       "5                 '.'               '.'                '.'       '-5'   \n",
       "6                 '.'               '.'                '.'       '-5'   \n",
       "7                 '.'               '.'                '.'       '-5'   \n",
       "8    '2 30 - 50% AMI'               '.'    '3 50% or More'       '-5'   \n",
       "9                 '.'               '.'                '.'       '-5'   \n",
       "\n",
       "   FMTSTATUS  \n",
       "1       '-5'  \n",
       "2       '-5'  \n",
       "3       '-5'  \n",
       "4       '-5'  \n",
       "5       '-5'  \n",
       "6       '-5'  \n",
       "7       '-5'  \n",
       "8       '-5'  \n",
       "9       '-5'  \n",
       "\n",
       "[9 rows x 99 columns]"
      ]
     },
     "execution_count": 16,
     "metadata": {},
     "output_type": "execute_result"
    }
   ],
   "source": [
    "failed_records[1:10]"
   ]
  },
  {
   "cell_type": "markdown",
   "metadata": {},
   "source": [
    "###  * Use case #3"
   ]
  },
  {
   "cell_type": "markdown",
   "metadata": {},
   "source": [
    "* geopandas is the best way to get the shape file data, creates a pandas dtaframe"
   ]
  },
  {
   "cell_type": "code",
   "execution_count": 17,
   "metadata": {
    "collapsed": false
   },
   "outputs": [],
   "source": [
    "import geopandas as gp\n",
    "file = \"/Users/sandipayannandi/Downloads/egen/melbourne_accident.shp\"\n",
    "\n",
    "shp=gp.GeoDataFrame.from_file(file)\n"
   ]
  },
  {
   "cell_type": "markdown",
   "metadata": {},
   "source": [
    "* In the above dtaframe the 'geometry' column is used to create two different columns \n",
    "'longitude' & 'latitude' at the end of the csv file"
   ]
  },
  {
   "cell_type": "code",
   "execution_count": 18,
   "metadata": {
    "collapsed": false
   },
   "outputs": [],
   "source": [
    "with open ('/Users/sandipayannandi/Downloads/egen/melbourne_accident_data.csv', 'w',newline='') as f:\n",
    "    writer=csv.writer(f)\n",
    "    writer.writerow(list(shp.dtypes.index)+['longitude', 'latitude'])\n",
    "    for i in range(len(shp)):\n",
    "            writer.writerow(list(shp.iloc[i]) + str(shp['geometry'][i]).replace('POINT (','').replace(')','').split())\n",
    "    "
   ]
  },
  {
   "cell_type": "markdown",
   "metadata": {},
   "source": [
    "* melbourne_accident_data.csv file should be checked for all the data and can be easily filtered by a latitude & longitude"
   ]
  }
 ],
 "metadata": {
  "anaconda-cloud": {},
  "kernelspec": {
   "display_name": "Python [conda root]",
   "language": "python",
   "name": "conda-root-py"
  },
  "language_info": {
   "codemirror_mode": {
    "name": "ipython",
    "version": 3
   },
   "file_extension": ".py",
   "mimetype": "text/x-python",
   "name": "python",
   "nbconvert_exporter": "python",
   "pygments_lexer": "ipython3",
   "version": "3.5.2"
  }
 },
 "nbformat": 4,
 "nbformat_minor": 1
}
